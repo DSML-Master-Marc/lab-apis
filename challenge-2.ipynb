{
 "cells": [
  {
   "cell_type": "markdown",
   "id": "0809e785",
   "metadata": {},
   "source": [
    "# 1. Import the necessary libraries for you to be able to query 4square API"
   ]
  },
  {
   "cell_type": "code",
   "execution_count": 1,
   "id": "9b373771",
   "metadata": {},
   "outputs": [],
   "source": [
    "import requests\n",
    "import json\n",
    "import pandas as pd\n",
    "from getpass import getpass\n",
    "\n",
    "# Get URL + api key + headers ------- Put here so we have to copy paste the key once\n",
    "url = \"https://api.foursquare.com/v3/places/search\"\n",
    "\n",
    "api_key = getpass(\"Enter token\")\n",
    "\n",
    "headers = {\n",
    "    \"accept\": \"application/json\",\n",
    "    \"Authorization\" : api_key}\n"
   ]
  },
  {
   "cell_type": "markdown",
   "id": "e94dce92",
   "metadata": {},
   "source": [
    "# 2. Get names and location of the 10 coffee places by passing Ironhack as your location"
   ]
  },
  {
   "cell_type": "code",
   "execution_count": 2,
   "id": "1d72f571",
   "metadata": {},
   "outputs": [
    {
     "name": "stdout",
     "output_type": "stream",
     "text": [
      "Status Code: 200\n"
     ]
    },
    {
     "data": {
      "text/html": [
       "<div>\n",
       "<style scoped>\n",
       "    .dataframe tbody tr th:only-of-type {\n",
       "        vertical-align: middle;\n",
       "    }\n",
       "\n",
       "    .dataframe tbody tr th {\n",
       "        vertical-align: top;\n",
       "    }\n",
       "\n",
       "    .dataframe thead th {\n",
       "        text-align: right;\n",
       "    }\n",
       "</style>\n",
       "<table border=\"1\" class=\"dataframe\">\n",
       "  <thead>\n",
       "    <tr style=\"text-align: right;\">\n",
       "      <th></th>\n",
       "      <th>name</th>\n",
       "      <th>address</th>\n",
       "    </tr>\n",
       "  </thead>\n",
       "  <tbody>\n",
       "    <tr>\n",
       "      <th>0</th>\n",
       "      <td>SKYE Coffee Co</td>\n",
       "      <td>Calle Pamplona, 88 (C. de Pallars), 08018 Barc...</td>\n",
       "    </tr>\n",
       "    <tr>\n",
       "      <th>1</th>\n",
       "      <td>Espacio 88</td>\n",
       "      <td>Carrer Pamplona, 88, 08018 Barcelona Catalunya</td>\n",
       "    </tr>\n",
       "    <tr>\n",
       "      <th>2</th>\n",
       "      <td>Cafeteria Industrial</td>\n",
       "      <td>Calle de Pallars, 154, 08005 Barcelona Catalunya</td>\n",
       "    </tr>\n",
       "    <tr>\n",
       "      <th>3</th>\n",
       "      <td>Nømad Frutas Selectas</td>\n",
       "      <td>Calle de Pujades, 95 (C. de Badajoz), 08005 Ba...</td>\n",
       "    </tr>\n",
       "    <tr>\n",
       "      <th>4</th>\n",
       "      <td>Syra Coffee Poblenou</td>\n",
       "      <td>Calle de Pujades, 100 (C. d'Àlaba), 08005 Barc...</td>\n",
       "    </tr>\n",
       "    <tr>\n",
       "      <th>5</th>\n",
       "      <td>Market Cuina Fresca</td>\n",
       "      <td>Calle Badajoz, 83, 08005 Barcelona Catalunya</td>\n",
       "    </tr>\n",
       "    <tr>\n",
       "      <th>6</th>\n",
       "      <td>Granja Mabel</td>\n",
       "      <td>Marina, 114-116, 08018 Barcelona Catalunya</td>\n",
       "    </tr>\n",
       "    <tr>\n",
       "      <th>7</th>\n",
       "      <td>Three Marks Coffee</td>\n",
       "      <td>C. d'Ausiàs Marc, 151, 08013 Barcelona Catalunya</td>\n",
       "    </tr>\n",
       "    <tr>\n",
       "      <th>8</th>\n",
       "      <td>Súper coffee &amp; food store</td>\n",
       "      <td>Carrer de Roc Boronat, 102 (Sancho d'Avila/ Al...</td>\n",
       "    </tr>\n",
       "    <tr>\n",
       "      <th>9</th>\n",
       "      <td>De Pa i Xocolata</td>\n",
       "      <td>Carrer de la Marina, 92, 08018 Barcelona Catal...</td>\n",
       "    </tr>\n",
       "  </tbody>\n",
       "</table>\n",
       "</div>"
      ],
      "text/plain": [
       "                        name  \\\n",
       "0             SKYE Coffee Co   \n",
       "1                 Espacio 88   \n",
       "2       Cafeteria Industrial   \n",
       "3      Nømad Frutas Selectas   \n",
       "4       Syra Coffee Poblenou   \n",
       "5        Market Cuina Fresca   \n",
       "6               Granja Mabel   \n",
       "7         Three Marks Coffee   \n",
       "8  Súper coffee & food store   \n",
       "9           De Pa i Xocolata   \n",
       "\n",
       "                                             address  \n",
       "0  Calle Pamplona, 88 (C. de Pallars), 08018 Barc...  \n",
       "1     Carrer Pamplona, 88, 08018 Barcelona Catalunya  \n",
       "2   Calle de Pallars, 154, 08005 Barcelona Catalunya  \n",
       "3  Calle de Pujades, 95 (C. de Badajoz), 08005 Ba...  \n",
       "4  Calle de Pujades, 100 (C. d'Àlaba), 08005 Barc...  \n",
       "5       Calle Badajoz, 83, 08005 Barcelona Catalunya  \n",
       "6         Marina, 114-116, 08018 Barcelona Catalunya  \n",
       "7   C. d'Ausiàs Marc, 151, 08013 Barcelona Catalunya  \n",
       "8  Carrer de Roc Boronat, 102 (Sancho d'Avila/ Al...  \n",
       "9  Carrer de la Marina, 92, 08018 Barcelona Catal...  "
      ]
     },
     "execution_count": 2,
     "metadata": {},
     "output_type": "execute_result"
    }
   ],
   "source": [
    "# Define parameters\n",
    "params = {\n",
    "    \"query\" : \"coffee\",\n",
    "    \"ll\" : \"41.398583957440636,2.190031323389499\", # Location Ironhack Barcelona\n",
    "    \"limit\" : \"10\",\n",
    "    \"radius\" : \"1000\" # 1km arround location\n",
    "}\n",
    "\n",
    "# Get the request\n",
    "response = requests.get(url, headers=headers, params= params)\n",
    "print(f\"Status Code: {response.status_code}\")\n",
    "\n",
    "data = response.json()\n",
    "\n",
    "# output\n",
    "output = []\n",
    "\n",
    "for coffee in data[\"results\"]:\n",
    "    output.append({\"name\" : coffee[\"name\"], \"address\" : coffee[\"location\"][\"formatted_address\"]})\n",
    "\n",
    "pd.DataFrame(output)"
   ]
  },
  {
   "cell_type": "markdown",
   "id": "941b5dbf",
   "metadata": {},
   "source": [
    "# 3. Now get the 5 CLOSEST coffe places. Make use of params: limit, near?"
   ]
  },
  {
   "cell_type": "code",
   "execution_count": 10,
   "id": "fda8ddff",
   "metadata": {},
   "outputs": [
    {
     "name": "stdout",
     "output_type": "stream",
     "text": [
      "Status Code: 200\n"
     ]
    },
    {
     "data": {
      "text/html": [
       "<div>\n",
       "<style scoped>\n",
       "    .dataframe tbody tr th:only-of-type {\n",
       "        vertical-align: middle;\n",
       "    }\n",
       "\n",
       "    .dataframe tbody tr th {\n",
       "        vertical-align: top;\n",
       "    }\n",
       "\n",
       "    .dataframe thead th {\n",
       "        text-align: right;\n",
       "    }\n",
       "</style>\n",
       "<table border=\"1\" class=\"dataframe\">\n",
       "  <thead>\n",
       "    <tr style=\"text-align: right;\">\n",
       "      <th></th>\n",
       "      <th>name</th>\n",
       "      <th>address</th>\n",
       "    </tr>\n",
       "  </thead>\n",
       "  <tbody>\n",
       "    <tr>\n",
       "      <th>0</th>\n",
       "      <td>SKYE Coffee Co</td>\n",
       "      <td>Calle Pamplona, 88 (C. de Pallars), 08018 Barc...</td>\n",
       "    </tr>\n",
       "    <tr>\n",
       "      <th>1</th>\n",
       "      <td>Espacio 88</td>\n",
       "      <td>Carrer Pamplona, 88, 08018 Barcelona Catalunya</td>\n",
       "    </tr>\n",
       "    <tr>\n",
       "      <th>2</th>\n",
       "      <td>Cafeteria Industrial</td>\n",
       "      <td>Calle de Pallars, 154, 08005 Barcelona Catalunya</td>\n",
       "    </tr>\n",
       "    <tr>\n",
       "      <th>3</th>\n",
       "      <td>Nømad Frutas Selectas</td>\n",
       "      <td>Calle de Pujades, 95 (C. de Badajoz), 08005 Ba...</td>\n",
       "    </tr>\n",
       "    <tr>\n",
       "      <th>4</th>\n",
       "      <td>Syra Coffee Poblenou</td>\n",
       "      <td>Calle de Pujades, 100 (C. d'Àlaba), 08005 Barc...</td>\n",
       "    </tr>\n",
       "  </tbody>\n",
       "</table>\n",
       "</div>"
      ],
      "text/plain": [
       "                    name                                            address\n",
       "0         SKYE Coffee Co  Calle Pamplona, 88 (C. de Pallars), 08018 Barc...\n",
       "1             Espacio 88     Carrer Pamplona, 88, 08018 Barcelona Catalunya\n",
       "2   Cafeteria Industrial   Calle de Pallars, 154, 08005 Barcelona Catalunya\n",
       "3  Nømad Frutas Selectas  Calle de Pujades, 95 (C. de Badajoz), 08005 Ba...\n",
       "4   Syra Coffee Poblenou  Calle de Pujades, 100 (C. d'Àlaba), 08005 Barc..."
      ]
     },
     "execution_count": 10,
     "metadata": {},
     "output_type": "execute_result"
    }
   ],
   "source": [
    "# Define parameters\n",
    "params = {\n",
    "    \"query\" : \"coffee\",\n",
    "    \"ll\" : \"41.398583957440636,2.190031323389499\", # Location Ironhack Barcelona\n",
    "    \"limit\" : \"5\",\n",
    "    \"radius\" : \"1000\" # 1km arround location\n",
    "}\n",
    "\n",
    "# Get the request\n",
    "response = requests.get(url, headers=headers, params= params)\n",
    "print(f\"Status Code: {response.status_code}\")\n",
    "\n",
    "data = response.json()\n",
    "\n",
    "output = []\n",
    "\n",
    "for coffee in data[\"results\"]:\n",
    "    output.append({\"name\" : coffee[\"name\"], \"address\" : coffee[\"location\"][\"formatted_address\"]})\n",
    "\n",
    "pd.DataFrame(output)"
   ]
  },
  {
   "cell_type": "markdown",
   "id": "d19904e8",
   "metadata": {},
   "source": [
    "# 4. Define a function that returns name, lat, long for starbucks OR restaurants AND for any given location"
   ]
  },
  {
   "cell_type": "code",
   "execution_count": null,
   "id": "1fad5153",
   "metadata": {},
   "outputs": [],
   "source": [
    "def foursquare_places (venue, coordinates):\n",
    "    # Define parameters\n",
    "    params = {\n",
    "    \"query\" : venue,\n",
    "    \"ll\" : coordinates,\n",
    "    \"limit\" : \"10\"\n",
    "    }\n",
    "\n",
    "    # Get request\n",
    "    response = requests.get(url, headers=headers, params= params)\n",
    "\n",
    "    response_json = response.json()\n",
    "    result = []\n",
    "\n",
    "    # Gather necessary data\n",
    "    for element in response_json['results']:\n",
    "        name = element[\"name\"]\n",
    "        longitude = element['geocodes']['main']['latitude']\n",
    "        latitude = element['geocodes']['main']['longitude']\n",
    "        result.append({\"name\" : name, \"longitude\" : longitude, \"latitude\" : latitude})\n",
    "\n",
    "    return pd.DataFrame(result)"
   ]
  },
  {
   "cell_type": "markdown",
   "id": "1836c1a1",
   "metadata": {},
   "source": [
    "# 5. Export it into data folder as a json: `data/coffe_shops.json`"
   ]
  },
  {
   "cell_type": "code",
   "execution_count": 14,
   "id": "7ac5f2a8",
   "metadata": {},
   "outputs": [],
   "source": [
    "# your code here\n",
    "coordinates = \"41.398583957440636,2.190031323389499\" # Location Ironhack Barcelona\n",
    "venue = \"coffee\" \n",
    "\n",
    "result = foursquare_places(venue, coordinates)\n",
    "result.to_json(\"data/coffe_shops.json\")"
   ]
  },
  {
   "cell_type": "markdown",
   "id": "2d77e99d",
   "metadata": {},
   "source": [
    "# BONUS: load it into MongoDB in a collection named \"ironcoffee\" using pymongo"
   ]
  },
  {
   "cell_type": "code",
   "execution_count": null,
   "id": "85b94955",
   "metadata": {},
   "outputs": [],
   "source": [
    "# your code here"
   ]
  }
 ],
 "metadata": {
  "kernelspec": {
   "display_name": "Python 3",
   "language": "python",
   "name": "python3"
  },
  "language_info": {
   "codemirror_mode": {
    "name": "ipython",
    "version": 3
   },
   "file_extension": ".py",
   "mimetype": "text/x-python",
   "name": "python",
   "nbconvert_exporter": "python",
   "pygments_lexer": "ipython3",
   "version": "3.13.2"
  },
  "toc": {
   "base_numbering": 1,
   "nav_menu": {},
   "number_sections": true,
   "sideBar": true,
   "skip_h1_title": false,
   "title_cell": "Table of Contents",
   "title_sidebar": "Contents",
   "toc_cell": false,
   "toc_position": {},
   "toc_section_display": true,
   "toc_window_display": true
  }
 },
 "nbformat": 4,
 "nbformat_minor": 5
}
